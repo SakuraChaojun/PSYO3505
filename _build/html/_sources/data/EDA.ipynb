{
 "cells": [
  {
   "cell_type": "markdown",
   "metadata": {
    "collapsed": false
   },
   "source": [
    "# Exploratory data analysis \n"
   ]
  },
  {
   "cell_type": "markdown",
   "metadata": {
    "collapsed": false
   },
   "source": [
    "Last updated: 2020-12-22"
   ]
  },
  {
   "cell_type": "markdown",
   "metadata": {
    "collapsed": false
   },
   "source": [
    "## Background\n"
   ]
  },
  {
   "cell_type": "markdown",
   "metadata": {
    "collapsed": false
   },
   "source": [
    "> Flanker Data\n",
    "We'll be working with data from a similar flanker experiment as we used in Assignment 2. However, in Assignment 2 we gave you a \"sanitized\" version of the data, where we had done a bit of clean-up to extract just the information we wanted you to work with. In this assignment you'll get experience starting with the raw data and extracting the necessary information yourself.\n",
    "\n",
    "--PSYO 3505 Fall 2019 Assignment 2 cell1"
   ]
  },
  {
   "cell_type": "markdown",
   "metadata": {
    "collapsed": false
   },
   "source": [
    "## Read file and check it"
   ]
  },
  {
   "cell_type": "code",
   "execution_count": 1,
   "metadata": {
    "collapsed": false
   },
   "outputs": [
   ],
   "source": [
    "import pandas as pd\n",
    "import numpy as np\n",
    "import matplotlib.pyplot as plt"
   ]
  },
  {
   "cell_type": "markdown",
   "metadata": {
    "collapsed": false
   },
   "source": [
    "First of all we need input and examine the data "
   ]
  },
  {
   "cell_type": "code",
   "execution_count": 2,
   "metadata": {
    "collapsed": false
   },
   "outputs": [
   ],
   "source": [
    "subjects = ['001_2015_05_22_11_30',\n",
    "            '002_2015_05_25_14_36',\n",
    "            '003_2015_05_28_14_09'\n",
    "           ]\n",
    "\n",
    "in_file = subjects[0]+'/'+subjects[0]+'_data.txt'\n",
    "\n",
    "#input to data_frame\n",
    "df = pd.read_csv(in_file)"
   ]
  },
  {
   "cell_type": "code",
   "execution_count": 3,
   "metadata": {
    "collapsed": false
   },
   "outputs": [
    {
     "data": {
      "text/html": [
       "<div>\n",
       "<style scoped>\n",
       "    .dataframe tbody tr th:only-of-type {\n",
       "        vertical-align: middle;\n",
       "    }\n",
       "\n",
       "    .dataframe tbody tr th {\n",
       "        vertical-align: top;\n",
       "    }\n",
       "\n",
       "    .dataframe thead th {\n",
       "        text-align: right;\n",
       "    }\n",
       "</style>\n",
       "<table border=\"1\" class=\"dataframe\">\n",
       "  <thead>\n",
       "    <tr style=\"text-align: right;\">\n",
       "      <th></th>\n",
       "      <th>id\\tyear\\tmonth\\tday\\thour\\tminute\\tgender\\tage\\thandedness\\twait\\tblock\\ttrial\\ttarget_location\\ttarget\\tflankers\\trt\\tresponse\\terror\\tpre_target_response\\tITI_response\\ttarget_on_error</th>\n",
       "    </tr>\n",
       "  </thead>\n",
       "  <tbody>\n",
       "    <tr>\n",
       "      <th>0</th>\n",
       "      <td>001\\t2015\\t05\\t22\\t11\\t30\\tm\\t25\\tr\\t3.24\\tpra...</td>\n",
       "    </tr>\n",
       "    <tr>\n",
       "      <th>1</th>\n",
       "      <td>001\\t2015\\t05\\t22\\t11\\t30\\tm\\t25\\tr\\t3.24\\tpra...</td>\n",
       "    </tr>\n",
       "    <tr>\n",
       "      <th>2</th>\n",
       "      <td>001\\t2015\\t05\\t22\\t11\\t30\\tm\\t25\\tr\\t3.24\\tpra...</td>\n",
       "    </tr>\n",
       "    <tr>\n",
       "      <th>3</th>\n",
       "      <td>001\\t2015\\t05\\t22\\t11\\t30\\tm\\t25\\tr\\t3.24\\tpra...</td>\n",
       "    </tr>\n",
       "    <tr>\n",
       "      <th>4</th>\n",
       "      <td>001\\t2015\\t05\\t22\\t11\\t30\\tm\\t25\\tr\\t3.24\\tpra...</td>\n",
       "    </tr>\n",
       "  </tbody>\n",
       "</table>\n",
       "</div>"
      ],
      "text/plain": [
       "  id\\tyear\\tmonth\\tday\\thour\\tminute\\tgender\\tage\\thandedness\\twait\\tblock\\ttrial\\ttarget_location\\ttarget\\tflankers\\trt\\tresponse\\terror\\tpre_target_response\\tITI_response\\ttarget_on_error\n",
       "0  001\\t2015\\t05\\t22\\t11\\t30\\tm\\t25\\tr\\t3.24\\tpra...                                                                                                                                         \n",
       "1  001\\t2015\\t05\\t22\\t11\\t30\\tm\\t25\\tr\\t3.24\\tpra...                                                                                                                                         \n",
       "2  001\\t2015\\t05\\t22\\t11\\t30\\tm\\t25\\tr\\t3.24\\tpra...                                                                                                                                         \n",
       "3  001\\t2015\\t05\\t22\\t11\\t30\\tm\\t25\\tr\\t3.24\\tpra...                                                                                                                                         \n",
       "4  001\\t2015\\t05\\t22\\t11\\t30\\tm\\t25\\tr\\t3.24\\tpra...                                                                                                                                         "
      ]
     },
     "execution_count": 3,
     "metadata": {
     },
     "output_type": "execute_result"
    }
   ],
   "source": [
    "df.head(5)"
   ]
  },
  {
   "cell_type": "markdown",
   "metadata": {
    "collapsed": false
   },
   "source": [
    "looks like not very well, we need add escape character. Typically, I prefer read csv file directly and then check the head."
   ]
  },
  {
   "cell_type": "code",
   "execution_count": 4,
   "metadata": {
    "collapsed": false
   },
   "outputs": [
    {
     "data": {
      "text/html": [
       "<div>\n",
       "<style scoped>\n",
       "    .dataframe tbody tr th:only-of-type {\n",
       "        vertical-align: middle;\n",
       "    }\n",
       "\n",
       "    .dataframe tbody tr th {\n",
       "        vertical-align: top;\n",
       "    }\n",
       "\n",
       "    .dataframe thead th {\n",
       "        text-align: right;\n",
       "    }\n",
       "</style>\n",
       "<table border=\"1\" class=\"dataframe\">\n",
       "  <thead>\n",
       "    <tr style=\"text-align: right;\">\n",
       "      <th></th>\n",
       "      <th>id</th>\n",
       "      <th>year</th>\n",
       "      <th>month</th>\n",
       "      <th>day</th>\n",
       "      <th>hour</th>\n",
       "      <th>minute</th>\n",
       "      <th>gender</th>\n",
       "      <th>age</th>\n",
       "      <th>handedness</th>\n",
       "      <th>wait</th>\n",
       "      <th>...</th>\n",
       "      <th>trial</th>\n",
       "      <th>target_location</th>\n",
       "      <th>target</th>\n",
       "      <th>flankers</th>\n",
       "      <th>rt</th>\n",
       "      <th>response</th>\n",
       "      <th>error</th>\n",
       "      <th>pre_target_response</th>\n",
       "      <th>ITI_response</th>\n",
       "      <th>target_on_error</th>\n",
       "    </tr>\n",
       "  </thead>\n",
       "  <tbody>\n",
       "    <tr>\n",
       "      <th>0</th>\n",
       "      <td>1</td>\n",
       "      <td>2015</td>\n",
       "      <td>5</td>\n",
       "      <td>22</td>\n",
       "      <td>11</td>\n",
       "      <td>30</td>\n",
       "      <td>m</td>\n",
       "      <td>25</td>\n",
       "      <td>r</td>\n",
       "      <td>3.240</td>\n",
       "      <td>...</td>\n",
       "      <td>1</td>\n",
       "      <td>left</td>\n",
       "      <td>black</td>\n",
       "      <td>incongruent</td>\n",
       "      <td>NaN</td>\n",
       "      <td>NaN</td>\n",
       "      <td>NaN</td>\n",
       "      <td>False</td>\n",
       "      <td>False</td>\n",
       "      <td>0.023</td>\n",
       "    </tr>\n",
       "    <tr>\n",
       "      <th>1</th>\n",
       "      <td>1</td>\n",
       "      <td>2015</td>\n",
       "      <td>5</td>\n",
       "      <td>22</td>\n",
       "      <td>11</td>\n",
       "      <td>30</td>\n",
       "      <td>m</td>\n",
       "      <td>25</td>\n",
       "      <td>r</td>\n",
       "      <td>3.240</td>\n",
       "      <td>...</td>\n",
       "      <td>2</td>\n",
       "      <td>right</td>\n",
       "      <td>black</td>\n",
       "      <td>incongruent</td>\n",
       "      <td>0.550</td>\n",
       "      <td>black</td>\n",
       "      <td>True</td>\n",
       "      <td>False</td>\n",
       "      <td>False</td>\n",
       "      <td>0.023</td>\n",
       "    </tr>\n",
       "    <tr>\n",
       "      <th>2</th>\n",
       "      <td>1</td>\n",
       "      <td>2015</td>\n",
       "      <td>5</td>\n",
       "      <td>22</td>\n",
       "      <td>11</td>\n",
       "      <td>30</td>\n",
       "      <td>m</td>\n",
       "      <td>25</td>\n",
       "      <td>r</td>\n",
       "      <td>3.240</td>\n",
       "      <td>...</td>\n",
       "      <td>3</td>\n",
       "      <td>up</td>\n",
       "      <td>white</td>\n",
       "      <td>incongruent</td>\n",
       "      <td>0.565</td>\n",
       "      <td>white</td>\n",
       "      <td>True</td>\n",
       "      <td>False</td>\n",
       "      <td>False</td>\n",
       "      <td>0.024</td>\n",
       "    </tr>\n",
       "    <tr>\n",
       "      <th>3</th>\n",
       "      <td>1</td>\n",
       "      <td>2015</td>\n",
       "      <td>5</td>\n",
       "      <td>22</td>\n",
       "      <td>11</td>\n",
       "      <td>30</td>\n",
       "      <td>m</td>\n",
       "      <td>25</td>\n",
       "      <td>r</td>\n",
       "      <td>3.240</td>\n",
       "      <td>...</td>\n",
       "      <td>4</td>\n",
       "      <td>up</td>\n",
       "      <td>black</td>\n",
       "      <td>congruent</td>\n",
       "      <td>0.453</td>\n",
       "      <td>black</td>\n",
       "      <td>True</td>\n",
       "      <td>False</td>\n",
       "      <td>False</td>\n",
       "      <td>0.024</td>\n",
       "    </tr>\n",
       "    <tr>\n",
       "      <th>4</th>\n",
       "      <td>1</td>\n",
       "      <td>2015</td>\n",
       "      <td>5</td>\n",
       "      <td>22</td>\n",
       "      <td>11</td>\n",
       "      <td>30</td>\n",
       "      <td>m</td>\n",
       "      <td>25</td>\n",
       "      <td>r</td>\n",
       "      <td>3.240</td>\n",
       "      <td>...</td>\n",
       "      <td>5</td>\n",
       "      <td>down</td>\n",
       "      <td>black</td>\n",
       "      <td>congruent</td>\n",
       "      <td>0.442</td>\n",
       "      <td>black</td>\n",
       "      <td>True</td>\n",
       "      <td>False</td>\n",
       "      <td>False</td>\n",
       "      <td>0.023</td>\n",
       "    </tr>\n",
       "    <tr>\n",
       "      <th>...</th>\n",
       "      <td>...</td>\n",
       "      <td>...</td>\n",
       "      <td>...</td>\n",
       "      <td>...</td>\n",
       "      <td>...</td>\n",
       "      <td>...</td>\n",
       "      <td>...</td>\n",
       "      <td>...</td>\n",
       "      <td>...</td>\n",
       "      <td>...</td>\n",
       "      <td>...</td>\n",
       "      <td>...</td>\n",
       "      <td>...</td>\n",
       "      <td>...</td>\n",
       "      <td>...</td>\n",
       "      <td>...</td>\n",
       "      <td>...</td>\n",
       "      <td>...</td>\n",
       "      <td>...</td>\n",
       "      <td>...</td>\n",
       "      <td>...</td>\n",
       "    </tr>\n",
       "    <tr>\n",
       "      <th>187</th>\n",
       "      <td>1</td>\n",
       "      <td>2015</td>\n",
       "      <td>5</td>\n",
       "      <td>22</td>\n",
       "      <td>11</td>\n",
       "      <td>30</td>\n",
       "      <td>m</td>\n",
       "      <td>25</td>\n",
       "      <td>r</td>\n",
       "      <td>1.627</td>\n",
       "      <td>...</td>\n",
       "      <td>28</td>\n",
       "      <td>left</td>\n",
       "      <td>white</td>\n",
       "      <td>congruent</td>\n",
       "      <td>0.349</td>\n",
       "      <td>white</td>\n",
       "      <td>True</td>\n",
       "      <td>False</td>\n",
       "      <td>False</td>\n",
       "      <td>0.024</td>\n",
       "    </tr>\n",
       "    <tr>\n",
       "      <th>188</th>\n",
       "      <td>1</td>\n",
       "      <td>2015</td>\n",
       "      <td>5</td>\n",
       "      <td>22</td>\n",
       "      <td>11</td>\n",
       "      <td>30</td>\n",
       "      <td>m</td>\n",
       "      <td>25</td>\n",
       "      <td>r</td>\n",
       "      <td>1.627</td>\n",
       "      <td>...</td>\n",
       "      <td>29</td>\n",
       "      <td>right</td>\n",
       "      <td>white</td>\n",
       "      <td>congruent</td>\n",
       "      <td>0.371</td>\n",
       "      <td>white</td>\n",
       "      <td>True</td>\n",
       "      <td>False</td>\n",
       "      <td>False</td>\n",
       "      <td>0.023</td>\n",
       "    </tr>\n",
       "    <tr>\n",
       "      <th>189</th>\n",
       "      <td>1</td>\n",
       "      <td>2015</td>\n",
       "      <td>5</td>\n",
       "      <td>22</td>\n",
       "      <td>11</td>\n",
       "      <td>30</td>\n",
       "      <td>m</td>\n",
       "      <td>25</td>\n",
       "      <td>r</td>\n",
       "      <td>1.627</td>\n",
       "      <td>...</td>\n",
       "      <td>30</td>\n",
       "      <td>up</td>\n",
       "      <td>black</td>\n",
       "      <td>incongruent</td>\n",
       "      <td>0.549</td>\n",
       "      <td>black</td>\n",
       "      <td>True</td>\n",
       "      <td>False</td>\n",
       "      <td>False</td>\n",
       "      <td>0.023</td>\n",
       "    </tr>\n",
       "    <tr>\n",
       "      <th>190</th>\n",
       "      <td>1</td>\n",
       "      <td>2015</td>\n",
       "      <td>5</td>\n",
       "      <td>22</td>\n",
       "      <td>11</td>\n",
       "      <td>30</td>\n",
       "      <td>m</td>\n",
       "      <td>25</td>\n",
       "      <td>r</td>\n",
       "      <td>1.627</td>\n",
       "      <td>...</td>\n",
       "      <td>31</td>\n",
       "      <td>left</td>\n",
       "      <td>white</td>\n",
       "      <td>neutral</td>\n",
       "      <td>0.463</td>\n",
       "      <td>white</td>\n",
       "      <td>True</td>\n",
       "      <td>False</td>\n",
       "      <td>False</td>\n",
       "      <td>0.023</td>\n",
       "    </tr>\n",
       "    <tr>\n",
       "      <th>191</th>\n",
       "      <td>1</td>\n",
       "      <td>2015</td>\n",
       "      <td>5</td>\n",
       "      <td>22</td>\n",
       "      <td>11</td>\n",
       "      <td>30</td>\n",
       "      <td>m</td>\n",
       "      <td>25</td>\n",
       "      <td>r</td>\n",
       "      <td>1.627</td>\n",
       "      <td>...</td>\n",
       "      <td>32</td>\n",
       "      <td>right</td>\n",
       "      <td>black</td>\n",
       "      <td>neutral</td>\n",
       "      <td>0.430</td>\n",
       "      <td>black</td>\n",
       "      <td>True</td>\n",
       "      <td>False</td>\n",
       "      <td>False</td>\n",
       "      <td>0.023</td>\n",
       "    </tr>\n",
       "  </tbody>\n",
       "</table>\n",
       "<p>192 rows × 21 columns</p>\n",
       "</div>"
      ],
      "text/plain": [
       "     id  year  month  day  hour  minute gender  age handedness   wait  ...  \\\n",
       "0     1  2015      5   22    11      30      m   25          r  3.240  ...   \n",
       "1     1  2015      5   22    11      30      m   25          r  3.240  ...   \n",
       "2     1  2015      5   22    11      30      m   25          r  3.240  ...   \n",
       "3     1  2015      5   22    11      30      m   25          r  3.240  ...   \n",
       "4     1  2015      5   22    11      30      m   25          r  3.240  ...   \n",
       "..   ..   ...    ...  ...   ...     ...    ...  ...        ...    ...  ...   \n",
       "187   1  2015      5   22    11      30      m   25          r  1.627  ...   \n",
       "188   1  2015      5   22    11      30      m   25          r  1.627  ...   \n",
       "189   1  2015      5   22    11      30      m   25          r  1.627  ...   \n",
       "190   1  2015      5   22    11      30      m   25          r  1.627  ...   \n",
       "191   1  2015      5   22    11      30      m   25          r  1.627  ...   \n",
       "\n",
       "    trial  target_location target     flankers     rt  response error  \\\n",
       "0       1             left  black  incongruent    NaN       NaN   NaN   \n",
       "1       2            right  black  incongruent  0.550     black  True   \n",
       "2       3               up  white  incongruent  0.565     white  True   \n",
       "3       4               up  black    congruent  0.453     black  True   \n",
       "4       5             down  black    congruent  0.442     black  True   \n",
       "..    ...              ...    ...          ...    ...       ...   ...   \n",
       "187    28             left  white    congruent  0.349     white  True   \n",
       "188    29            right  white    congruent  0.371     white  True   \n",
       "189    30               up  black  incongruent  0.549     black  True   \n",
       "190    31             left  white      neutral  0.463     white  True   \n",
       "191    32            right  black      neutral  0.430     black  True   \n",
       "\n",
       "    pre_target_response  ITI_response  target_on_error  \n",
       "0                 False         False            0.023  \n",
       "1                 False         False            0.023  \n",
       "2                 False         False            0.024  \n",
       "3                 False         False            0.024  \n",
       "4                 False         False            0.023  \n",
       "..                  ...           ...              ...  \n",
       "187               False         False            0.024  \n",
       "188               False         False            0.023  \n",
       "189               False         False            0.023  \n",
       "190               False         False            0.023  \n",
       "191               False         False            0.023  \n",
       "\n",
       "[192 rows x 21 columns]"
      ]
     },
     "execution_count": 4,
     "metadata": {
     },
     "output_type": "execute_result"
    }
   ],
   "source": [
    "df = pd.read_csv(in_file,sep = '\\t')\n",
    "df"
   ]
  },
  {
   "cell_type": "markdown",
   "metadata": {
    "collapsed": false
   },
   "source": [
    "look at the head and tail again \n"
   ]
  },
  {
   "cell_type": "code",
   "execution_count": 5,
   "metadata": {
    "collapsed": false
   },
   "outputs": [
    {
     "data": {
      "text/html": [
       "<div>\n",
       "<style scoped>\n",
       "    .dataframe tbody tr th:only-of-type {\n",
       "        vertical-align: middle;\n",
       "    }\n",
       "\n",
       "    .dataframe tbody tr th {\n",
       "        vertical-align: top;\n",
       "    }\n",
       "\n",
       "    .dataframe thead th {\n",
       "        text-align: right;\n",
       "    }\n",
       "</style>\n",
       "<table border=\"1\" class=\"dataframe\">\n",
       "  <thead>\n",
       "    <tr style=\"text-align: right;\">\n",
       "      <th></th>\n",
       "      <th>id</th>\n",
       "      <th>year</th>\n",
       "      <th>month</th>\n",
       "      <th>day</th>\n",
       "      <th>hour</th>\n",
       "      <th>minute</th>\n",
       "      <th>gender</th>\n",
       "      <th>age</th>\n",
       "      <th>handedness</th>\n",
       "      <th>wait</th>\n",
       "      <th>...</th>\n",
       "      <th>trial</th>\n",
       "      <th>target_location</th>\n",
       "      <th>target</th>\n",
       "      <th>flankers</th>\n",
       "      <th>rt</th>\n",
       "      <th>response</th>\n",
       "      <th>error</th>\n",
       "      <th>pre_target_response</th>\n",
       "      <th>ITI_response</th>\n",
       "      <th>target_on_error</th>\n",
       "    </tr>\n",
       "  </thead>\n",
       "  <tbody>\n",
       "    <tr>\n",
       "      <th>0</th>\n",
       "      <td>1</td>\n",
       "      <td>2015</td>\n",
       "      <td>5</td>\n",
       "      <td>22</td>\n",
       "      <td>11</td>\n",
       "      <td>30</td>\n",
       "      <td>m</td>\n",
       "      <td>25</td>\n",
       "      <td>r</td>\n",
       "      <td>3.24</td>\n",
       "      <td>...</td>\n",
       "      <td>1</td>\n",
       "      <td>left</td>\n",
       "      <td>black</td>\n",
       "      <td>incongruent</td>\n",
       "      <td>NaN</td>\n",
       "      <td>NaN</td>\n",
       "      <td>NaN</td>\n",
       "      <td>False</td>\n",
       "      <td>False</td>\n",
       "      <td>0.023</td>\n",
       "    </tr>\n",
       "    <tr>\n",
       "      <th>1</th>\n",
       "      <td>1</td>\n",
       "      <td>2015</td>\n",
       "      <td>5</td>\n",
       "      <td>22</td>\n",
       "      <td>11</td>\n",
       "      <td>30</td>\n",
       "      <td>m</td>\n",
       "      <td>25</td>\n",
       "      <td>r</td>\n",
       "      <td>3.24</td>\n",
       "      <td>...</td>\n",
       "      <td>2</td>\n",
       "      <td>right</td>\n",
       "      <td>black</td>\n",
       "      <td>incongruent</td>\n",
       "      <td>0.550</td>\n",
       "      <td>black</td>\n",
       "      <td>True</td>\n",
       "      <td>False</td>\n",
       "      <td>False</td>\n",
       "      <td>0.023</td>\n",
       "    </tr>\n",
       "    <tr>\n",
       "      <th>2</th>\n",
       "      <td>1</td>\n",
       "      <td>2015</td>\n",
       "      <td>5</td>\n",
       "      <td>22</td>\n",
       "      <td>11</td>\n",
       "      <td>30</td>\n",
       "      <td>m</td>\n",
       "      <td>25</td>\n",
       "      <td>r</td>\n",
       "      <td>3.24</td>\n",
       "      <td>...</td>\n",
       "      <td>3</td>\n",
       "      <td>up</td>\n",
       "      <td>white</td>\n",
       "      <td>incongruent</td>\n",
       "      <td>0.565</td>\n",
       "      <td>white</td>\n",
       "      <td>True</td>\n",
       "      <td>False</td>\n",
       "      <td>False</td>\n",
       "      <td>0.024</td>\n",
       "    </tr>\n",
       "    <tr>\n",
       "      <th>3</th>\n",
       "      <td>1</td>\n",
       "      <td>2015</td>\n",
       "      <td>5</td>\n",
       "      <td>22</td>\n",
       "      <td>11</td>\n",
       "      <td>30</td>\n",
       "      <td>m</td>\n",
       "      <td>25</td>\n",
       "      <td>r</td>\n",
       "      <td>3.24</td>\n",
       "      <td>...</td>\n",
       "      <td>4</td>\n",
       "      <td>up</td>\n",
       "      <td>black</td>\n",
       "      <td>congruent</td>\n",
       "      <td>0.453</td>\n",
       "      <td>black</td>\n",
       "      <td>True</td>\n",
       "      <td>False</td>\n",
       "      <td>False</td>\n",
       "      <td>0.024</td>\n",
       "    </tr>\n",
       "    <tr>\n",
       "      <th>4</th>\n",
       "      <td>1</td>\n",
       "      <td>2015</td>\n",
       "      <td>5</td>\n",
       "      <td>22</td>\n",
       "      <td>11</td>\n",
       "      <td>30</td>\n",
       "      <td>m</td>\n",
       "      <td>25</td>\n",
       "      <td>r</td>\n",
       "      <td>3.24</td>\n",
       "      <td>...</td>\n",
       "      <td>5</td>\n",
       "      <td>down</td>\n",
       "      <td>black</td>\n",
       "      <td>congruent</td>\n",
       "      <td>0.442</td>\n",
       "      <td>black</td>\n",
       "      <td>True</td>\n",
       "      <td>False</td>\n",
       "      <td>False</td>\n",
       "      <td>0.023</td>\n",
       "    </tr>\n",
       "  </tbody>\n",
       "</table>\n",
       "<p>5 rows × 21 columns</p>\n",
       "</div>"
      ],
      "text/plain": [
       "   id  year  month  day  hour  minute gender  age handedness  wait  ... trial  \\\n",
       "0   1  2015      5   22    11      30      m   25          r  3.24  ...     1   \n",
       "1   1  2015      5   22    11      30      m   25          r  3.24  ...     2   \n",
       "2   1  2015      5   22    11      30      m   25          r  3.24  ...     3   \n",
       "3   1  2015      5   22    11      30      m   25          r  3.24  ...     4   \n",
       "4   1  2015      5   22    11      30      m   25          r  3.24  ...     5   \n",
       "\n",
       "   target_location target     flankers     rt  response error  \\\n",
       "0             left  black  incongruent    NaN       NaN   NaN   \n",
       "1            right  black  incongruent  0.550     black  True   \n",
       "2               up  white  incongruent  0.565     white  True   \n",
       "3               up  black    congruent  0.453     black  True   \n",
       "4             down  black    congruent  0.442     black  True   \n",
       "\n",
       "  pre_target_response  ITI_response  target_on_error  \n",
       "0               False         False            0.023  \n",
       "1               False         False            0.023  \n",
       "2               False         False            0.024  \n",
       "3               False         False            0.024  \n",
       "4               False         False            0.023  \n",
       "\n",
       "[5 rows x 21 columns]"
      ]
     },
     "execution_count": 5,
     "metadata": {
     },
     "output_type": "execute_result"
    }
   ],
   "source": [
    "df.head(5)"
   ]
  },
  {
   "cell_type": "code",
   "execution_count": 6,
   "metadata": {
    "collapsed": false
   },
   "outputs": [
    {
     "data": {
      "text/html": [
       "<div>\n",
       "<style scoped>\n",
       "    .dataframe tbody tr th:only-of-type {\n",
       "        vertical-align: middle;\n",
       "    }\n",
       "\n",
       "    .dataframe tbody tr th {\n",
       "        vertical-align: top;\n",
       "    }\n",
       "\n",
       "    .dataframe thead th {\n",
       "        text-align: right;\n",
       "    }\n",
       "</style>\n",
       "<table border=\"1\" class=\"dataframe\">\n",
       "  <thead>\n",
       "    <tr style=\"text-align: right;\">\n",
       "      <th></th>\n",
       "      <th>id</th>\n",
       "      <th>year</th>\n",
       "      <th>month</th>\n",
       "      <th>day</th>\n",
       "      <th>hour</th>\n",
       "      <th>minute</th>\n",
       "      <th>gender</th>\n",
       "      <th>age</th>\n",
       "      <th>handedness</th>\n",
       "      <th>wait</th>\n",
       "      <th>...</th>\n",
       "      <th>trial</th>\n",
       "      <th>target_location</th>\n",
       "      <th>target</th>\n",
       "      <th>flankers</th>\n",
       "      <th>rt</th>\n",
       "      <th>response</th>\n",
       "      <th>error</th>\n",
       "      <th>pre_target_response</th>\n",
       "      <th>ITI_response</th>\n",
       "      <th>target_on_error</th>\n",
       "    </tr>\n",
       "  </thead>\n",
       "  <tbody>\n",
       "    <tr>\n",
       "      <th>187</th>\n",
       "      <td>1</td>\n",
       "      <td>2015</td>\n",
       "      <td>5</td>\n",
       "      <td>22</td>\n",
       "      <td>11</td>\n",
       "      <td>30</td>\n",
       "      <td>m</td>\n",
       "      <td>25</td>\n",
       "      <td>r</td>\n",
       "      <td>1.627</td>\n",
       "      <td>...</td>\n",
       "      <td>28</td>\n",
       "      <td>left</td>\n",
       "      <td>white</td>\n",
       "      <td>congruent</td>\n",
       "      <td>0.349</td>\n",
       "      <td>white</td>\n",
       "      <td>True</td>\n",
       "      <td>False</td>\n",
       "      <td>False</td>\n",
       "      <td>0.024</td>\n",
       "    </tr>\n",
       "    <tr>\n",
       "      <th>188</th>\n",
       "      <td>1</td>\n",
       "      <td>2015</td>\n",
       "      <td>5</td>\n",
       "      <td>22</td>\n",
       "      <td>11</td>\n",
       "      <td>30</td>\n",
       "      <td>m</td>\n",
       "      <td>25</td>\n",
       "      <td>r</td>\n",
       "      <td>1.627</td>\n",
       "      <td>...</td>\n",
       "      <td>29</td>\n",
       "      <td>right</td>\n",
       "      <td>white</td>\n",
       "      <td>congruent</td>\n",
       "      <td>0.371</td>\n",
       "      <td>white</td>\n",
       "      <td>True</td>\n",
       "      <td>False</td>\n",
       "      <td>False</td>\n",
       "      <td>0.023</td>\n",
       "    </tr>\n",
       "    <tr>\n",
       "      <th>189</th>\n",
       "      <td>1</td>\n",
       "      <td>2015</td>\n",
       "      <td>5</td>\n",
       "      <td>22</td>\n",
       "      <td>11</td>\n",
       "      <td>30</td>\n",
       "      <td>m</td>\n",
       "      <td>25</td>\n",
       "      <td>r</td>\n",
       "      <td>1.627</td>\n",
       "      <td>...</td>\n",
       "      <td>30</td>\n",
       "      <td>up</td>\n",
       "      <td>black</td>\n",
       "      <td>incongruent</td>\n",
       "      <td>0.549</td>\n",
       "      <td>black</td>\n",
       "      <td>True</td>\n",
       "      <td>False</td>\n",
       "      <td>False</td>\n",
       "      <td>0.023</td>\n",
       "    </tr>\n",
       "    <tr>\n",
       "      <th>190</th>\n",
       "      <td>1</td>\n",
       "      <td>2015</td>\n",
       "      <td>5</td>\n",
       "      <td>22</td>\n",
       "      <td>11</td>\n",
       "      <td>30</td>\n",
       "      <td>m</td>\n",
       "      <td>25</td>\n",
       "      <td>r</td>\n",
       "      <td>1.627</td>\n",
       "      <td>...</td>\n",
       "      <td>31</td>\n",
       "      <td>left</td>\n",
       "      <td>white</td>\n",
       "      <td>neutral</td>\n",
       "      <td>0.463</td>\n",
       "      <td>white</td>\n",
       "      <td>True</td>\n",
       "      <td>False</td>\n",
       "      <td>False</td>\n",
       "      <td>0.023</td>\n",
       "    </tr>\n",
       "    <tr>\n",
       "      <th>191</th>\n",
       "      <td>1</td>\n",
       "      <td>2015</td>\n",
       "      <td>5</td>\n",
       "      <td>22</td>\n",
       "      <td>11</td>\n",
       "      <td>30</td>\n",
       "      <td>m</td>\n",
       "      <td>25</td>\n",
       "      <td>r</td>\n",
       "      <td>1.627</td>\n",
       "      <td>...</td>\n",
       "      <td>32</td>\n",
       "      <td>right</td>\n",
       "      <td>black</td>\n",
       "      <td>neutral</td>\n",
       "      <td>0.430</td>\n",
       "      <td>black</td>\n",
       "      <td>True</td>\n",
       "      <td>False</td>\n",
       "      <td>False</td>\n",
       "      <td>0.023</td>\n",
       "    </tr>\n",
       "  </tbody>\n",
       "</table>\n",
       "<p>5 rows × 21 columns</p>\n",
       "</div>"
      ],
      "text/plain": [
       "     id  year  month  day  hour  minute gender  age handedness   wait  ...  \\\n",
       "187   1  2015      5   22    11      30      m   25          r  1.627  ...   \n",
       "188   1  2015      5   22    11      30      m   25          r  1.627  ...   \n",
       "189   1  2015      5   22    11      30      m   25          r  1.627  ...   \n",
       "190   1  2015      5   22    11      30      m   25          r  1.627  ...   \n",
       "191   1  2015      5   22    11      30      m   25          r  1.627  ...   \n",
       "\n",
       "    trial  target_location target     flankers     rt  response error  \\\n",
       "187    28             left  white    congruent  0.349     white  True   \n",
       "188    29            right  white    congruent  0.371     white  True   \n",
       "189    30               up  black  incongruent  0.549     black  True   \n",
       "190    31             left  white      neutral  0.463     white  True   \n",
       "191    32            right  black      neutral  0.430     black  True   \n",
       "\n",
       "    pre_target_response  ITI_response  target_on_error  \n",
       "187               False         False            0.024  \n",
       "188               False         False            0.023  \n",
       "189               False         False            0.023  \n",
       "190               False         False            0.023  \n",
       "191               False         False            0.023  \n",
       "\n",
       "[5 rows x 21 columns]"
      ]
     },
     "execution_count": 6,
     "metadata": {
     },
     "output_type": "execute_result"
    }
   ],
   "source": [
    "df.tail(5)"
   ]
  },
  {
   "cell_type": "markdown",
   "metadata": {
    "collapsed": false
   },
   "source": [
    "Then we check have missing value "
   ]
  },
  {
   "cell_type": "code",
   "execution_count": 7,
   "metadata": {
    "collapsed": false
   },
   "outputs": [
    {
     "name": "stdout",
     "output_type": "stream",
     "text": [
      "id                     0\n",
      "year                   0\n",
      "month                  0\n",
      "day                    0\n",
      "hour                   0\n",
      "minute                 0\n",
      "gender                 0\n",
      "age                    0\n",
      "handedness             0\n",
      "wait                   0\n",
      "block                  0\n",
      "trial                  0\n",
      "target_location        0\n",
      "target                 0\n",
      "flankers               0\n",
      "rt                     2\n",
      "response               2\n",
      "error                  2\n",
      "pre_target_response    0\n",
      "ITI_response           0\n",
      "target_on_error        0\n",
      "dtype: int64\n"
     ]
    }
   ],
   "source": [
    "print(pd.isna(df).sum())"
   ]
  },
  {
   "cell_type": "markdown",
   "metadata": {
    "collapsed": false
   },
   "source": [
    "## Data cleaning"
   ]
  },
  {
   "cell_type": "markdown",
   "metadata": {
    "collapsed": false
   },
   "source": [
    "Obviously, we need to remove missing data by appling \n",
    "```\n",
    ".dropna() method\n",
    "```"
   ]
  },
  {
   "cell_type": "code",
   "execution_count": 8,
   "metadata": {
    "collapsed": false
   },
   "outputs": [
    {
     "name": "stdout",
     "output_type": "stream",
     "text": [
      "id                     0\n",
      "year                   0\n",
      "month                  0\n",
      "day                    0\n",
      "hour                   0\n",
      "minute                 0\n",
      "gender                 0\n",
      "age                    0\n",
      "handedness             0\n",
      "wait                   0\n",
      "block                  0\n",
      "trial                  0\n",
      "target_location        0\n",
      "target                 0\n",
      "flankers               0\n",
      "rt                     0\n",
      "response               0\n",
      "error                  0\n",
      "pre_target_response    0\n",
      "ITI_response           0\n",
      "target_on_error        0\n",
      "dtype: int64\n"
     ]
    }
   ],
   "source": [
    "df = df.dropna()\n",
    "print(pd.isna(df).sum())"
   ]
  },
  {
   "cell_type": "markdown",
   "metadata": {
    "collapsed": false
   },
   "source": [
    "This experiment has ‘practice’, the main idea is giving participants a chance to figure out the experiment. But we do not need it in our EDA. Not all experiments have ‘practice’ . "
   ]
  },
  {
   "cell_type": "markdown",
   "metadata": {
    "collapsed": false
   },
   "source": [
    "value = df['block']\n",
    "print(value.unique())"
   ]
  },
  {
   "cell_type": "code",
   "execution_count": 9,
   "metadata": {
    "collapsed": false
   },
   "outputs": [
    {
     "name": "stdout",
     "output_type": "stream",
     "text": [
      "['1' '2' '3' '4' '5']\n"
     ]
    }
   ],
   "source": [
    "df = df[df.block!='practice']\n",
    "value = df['block']\n",
    "print(value.unique())"
   ]
  },
  {
   "cell_type": "markdown",
   "metadata": {
    "collapsed": false
   },
   "source": [
    "Then we found ‘rt’ column is not milliseconds and need to convert"
   ]
  },
  {
   "cell_type": "code",
   "execution_count": 10,
   "metadata": {
    "collapsed": false
   },
   "outputs": [
    {
     "data": {
      "text/plain": [
       "32     0.528\n",
       "33     0.419\n",
       "34     0.514\n",
       "35     0.406\n",
       "36     0.502\n",
       "       ...  \n",
       "187    0.349\n",
       "188    0.371\n",
       "189    0.549\n",
       "190    0.463\n",
       "191    0.430\n",
       "Name: rt, Length: 160, dtype: float64"
      ]
     },
     "execution_count": 10,
     "metadata": {
     },
     "output_type": "execute_result"
    }
   ],
   "source": [
    "df['rt']"
   ]
  },
  {
   "cell_type": "code",
   "execution_count": 11,
   "metadata": {
    "collapsed": false
   },
   "outputs": [
    {
     "name": "stdout",
     "output_type": "stream",
     "text": [
      "32     528.0\n",
      "33     419.0\n",
      "34     514.0\n",
      "35     406.0\n",
      "36     502.0\n",
      "       ...  \n",
      "187    349.0\n",
      "188    371.0\n",
      "189    549.0\n",
      "190    463.0\n",
      "191    430.0\n",
      "Name: rt, Length: 160, dtype: float64\n"
     ]
    }
   ],
   "source": [
    "df['rt'] = df['rt']*1000\n",
    "print(df['rt'])"
   ]
  },
  {
   "cell_type": "markdown",
   "metadata": {
    "collapsed": false
   },
   "source": [
    "‘rt’ is our interested variable, but In most behavioural studies, RTs are not normally distributed, so we need to Examining the RT distribution"
   ]
  },
  {
   "cell_type": "code",
   "execution_count": 12,
   "metadata": {
    "collapsed": false
   },
   "outputs": [
    {
     "data": {
      "text/plain": [
       "count    160.00000\n",
       "mean     465.16875\n",
       "std      101.47170\n",
       "min      314.00000\n",
       "25%      392.25000\n",
       "50%      454.00000\n",
       "75%      505.25000\n",
       "max      845.00000\n",
       "Name: rt, dtype: float64"
      ]
     },
     "execution_count": 12,
     "metadata": {
     },
     "output_type": "execute_result"
    }
   ],
   "source": [
    "df['rt'].describe()"
   ]
  },
  {
   "cell_type": "markdown",
   "metadata": {
    "collapsed": false
   },
   "source": [
    "plot a histogram of RTs"
   ]
  },
  {
   "cell_type": "code",
   "execution_count": 13,
   "metadata": {
    "collapsed": false
   },
   "outputs": [
    {
     "data": {
      "image/png": "[encoded data removed]",
      "text/plain": [
       "<Figure size 864x504 with 1 Axes>"
      ]
     },
     "execution_count": 13,
     "metadata": {
      "image/png": {
       "height": 411,
       "width": 717
      },
      "needs_background": "light"
     },
     "output_type": "execute_result"
    }
   ],
   "source": [
    "df['rt'].plot(kind='hist')\n",
    "\n",
    "# add a solid line at the median and dashed lines at the 25th and 75th percentiles (done for you)\n",
    "plt.axvline(df['rt'].describe()['25%'], 0, 1, color='turquoise', linestyle='--')\n",
    "plt.axvline(df['rt'].median(), 0, 1, color='cyan', linestyle='-')\n",
    "plt.axvline(df['rt'].describe()['75%'], 0, 1, color='turquoise', linestyle='--')\n",
    "\n",
    "# Rememebr to use plt.show() to see your plots (often they show anyway, but with some garbagy text at the top)\n",
    "plt.show()"
   ]
  },
  {
   "cell_type": "markdown",
   "metadata": {
    "collapsed": false
   },
   "source": [
    "## Analyzing relationships between variables"
   ]
  },
  {
   "cell_type": "markdown",
   "metadata": {
    "collapsed": false
   },
   "source": [
    "According to above figure, the histogram look not follow normal distribution, Looks like right skewed. Because the data sets have low ‘high value\n",
    "<br> check the cdf"
   ]
  },
  {
   "cell_type": "code",
   "execution_count": 14,
   "metadata": {
    "collapsed": false
   },
   "outputs": [
    {
     "data": {
      "image/png": "[encoded data removed]",
      "text/plain": [
       "<Figure size 864x504 with 1 Axes>"
      ]
     },
     "execution_count": 14,
     "metadata": {
      "image/png": {
       "height": 411,
       "width": 720
      },
      "needs_background": "light"
     },
     "output_type": "execute_result"
    }
   ],
   "source": [
    "df['rt'].plot(kind = 'hist',cumulative = True, density =True)\n",
    "# add a dashed oragne line at the median\n",
    "plt.axvline(df['rt'].describe()['25%'], 0, 1, color='turquoise', linestyle='--')\n",
    "plt.axvline(df['rt'].median(), 0, 1, color='cyan', linestyle='-')\n",
    "plt.axvline(df['rt'].describe()['75%'], 0, 1, color='turquoise', linestyle='--')\n",
    "\n",
    "plt.show()"
   ]
  },
  {
   "cell_type": "markdown",
   "metadata": {
    "collapsed": false
   },
   "source": [
    "How should we do in this situation. The course tells me :\n",
    "<br>\n",
    ">While the skew in the RT data makes sense, for the reasons described above, it's problematic when running statistics on the data. This is because many conventional statistical tests, like t-tests and ANOVAs, assume that the data are normally distributed. Using skewed data can cause unreliable results.\n",
    "<br>\n",
    "<br>\n",
    "For this reason, many researchers apply some transformation to RTs to make their distribution more normal (statistically normal, that is). A common one is to take the logarithm of the RT values: log(RT)log(RT); another is to take the inverse: 1/RT.\n",
    "\n",
    "\n",
    "---PSYO 3505 Fall 2019 Assignment 2 cell40\n"
   ]
  },
  {
   "cell_type": "markdown",
   "metadata": {
    "collapsed": false
   },
   "source": [
    "So, for log(RT)"
   ]
  },
  {
   "cell_type": "code",
   "execution_count": 15,
   "metadata": {
    "collapsed": false
   },
   "outputs": [
    {
     "data": {
      "image/png": "[encoded data removed]",
      "text/plain": [
       "<Figure size 864x504 with 1 Axes>"
      ]
     },
     "execution_count": 15,
     "metadata": {
      "image/png": {
       "height": 411,
       "width": 717
      },
      "needs_background": "light"
     },
     "output_type": "execute_result"
    }
   ],
   "source": [
    "# log-transform the rt data (done for you) \n",
    "df['logrt'] = np.log(df['rt'])\n",
    "\n",
    "# put your plotting code here\n",
    "# YOUR CODE HERE\n",
    "df['logrt'].plot(kind='hist')\n",
    "\n",
    "# add a solid line at the median and dashed lines at the 25th and 75th percentiles (done for you)\n",
    "plt.axvline(df['logrt'].describe()['25%'], 0, 1, color='turquoise', linestyle='--')\n",
    "plt.axvline(df['logrt'].median(), 0, 1, color='cyan', linestyle='-')\n",
    "plt.axvline(df['logrt'].describe()['75%'], 0, 1, color='turquoise', linestyle='--')\n",
    "\n",
    "# Rememebr to use plt.show() to see your plots (often they show anyway, but with some garbagy text at the top)\n",
    "plt.show()"
   ]
  },
  {
   "cell_type": "markdown",
   "metadata": {
    "collapsed": false
   },
   "source": [
    "inverse: $1/RT$"
   ]
  },
  {
   "cell_type": "code",
   "execution_count": 16,
   "metadata": {
    "collapsed": false
   },
   "outputs": [
    {
     "data": {
      "image/png": "[encoded data removed]",
      "text/plain": [
       "<Figure size 864x504 with 1 Axes>"
      ]
     },
     "execution_count": 16,
     "metadata": {
      "image/png": {
       "height": 411,
       "width": 727
      },
      "needs_background": "light"
     },
     "output_type": "execute_result"
    }
   ],
   "source": [
    "df['invrt'] = 1/(df['rt'])\n",
    "\n",
    "df['invrt'].plot(kind='hist')\n",
    "# add a solid line at the median and dashed lines at the 25th and 75th percentiles (done for you)\n",
    "plt.axvline(df['invrt'].describe()['25%'], 0, 1, color='turquoise', linestyle='--')\n",
    "plt.axvline(df['invrt'].median(), 0, 1, color='cyan', linestyle='-')\n",
    "plt.axvline(df['invrt'].describe()['75%'], 0, 1, color='turquoise', linestyle='--')\n",
    "\n",
    "# Rememebr to use plt.show() to see your plots (often they show anyway, but with some garbagy text at the top)\n",
    "plt.show()"
   ]
  },
  {
   "cell_type": "markdown",
   "metadata": {
    "collapsed": false
   },
   "source": [
    "After that, we want to explore the data will be on errors and reaction times (RTs).\n",
    ">Recall that these data are from a \"flanker\" experiment in which participants had to respond with a left or right button press, depending on whether the target (centre) arrow pointed left or right. The target arrow was flanked with two arrows on either side that were either congruent (pointed in same direction) or incongruent (opposite direction).\n",
    "\n",
    "---PSYO 3505 Fall 2019 Assignment 2 cell48\n",
    "\n",
    "```{tip} You can found more information about flanker experiment in this article 'Flanker and Simon effects interact at the response selection stage'\n",
    "```"
   ]
  },
  {
   "cell_type": "code",
   "execution_count": 17,
   "metadata": {
    "collapsed": false
   },
   "outputs": [
    {
     "data": {
      "text/html": [
       "<div>\n",
       "<style scoped>\n",
       "    .dataframe tbody tr th:only-of-type {\n",
       "        vertical-align: middle;\n",
       "    }\n",
       "\n",
       "    .dataframe tbody tr th {\n",
       "        vertical-align: top;\n",
       "    }\n",
       "\n",
       "    .dataframe thead th {\n",
       "        text-align: right;\n",
       "    }\n",
       "</style>\n",
       "<table border=\"1\" class=\"dataframe\">\n",
       "  <thead>\n",
       "    <tr style=\"text-align: right;\">\n",
       "      <th></th>\n",
       "      <th>rt</th>\n",
       "    </tr>\n",
       "    <tr>\n",
       "      <th>flankers</th>\n",
       "      <th></th>\n",
       "    </tr>\n",
       "  </thead>\n",
       "  <tbody>\n",
       "    <tr>\n",
       "      <th>congruent</th>\n",
       "      <td>452.60</td>\n",
       "    </tr>\n",
       "    <tr>\n",
       "      <th>incongruent</th>\n",
       "      <td>466.05</td>\n",
       "    </tr>\n",
       "  </tbody>\n",
       "</table>\n",
       "</div>"
      ],
      "text/plain": [
       "                 rt\n",
       "flankers           \n",
       "congruent    452.60\n",
       "incongruent  466.05"
      ]
     },
     "execution_count": 17,
     "metadata": {
     },
     "output_type": "execute_result"
    }
   ],
   "source": [
    "rt_mean = df.groupby(by = 'flankers')[['rt','error']].agg('mean')\n",
    "rt_mean = rt_mean.drop('neutral')\n",
    "rt_mean"
   ]
  },
  {
   "cell_type": "markdown",
   "metadata": {
    "collapsed": false
   },
   "source": [
    "Generate a table for accuracy (the error column)."
   ]
  },
  {
   "cell_type": "code",
   "execution_count": 18,
   "metadata": {
    "collapsed": false
   },
   "outputs": [
    {
     "data": {
      "text/html": [
       "<div>\n",
       "<style scoped>\n",
       "    .dataframe tbody tr th:only-of-type {\n",
       "        vertical-align: middle;\n",
       "    }\n",
       "\n",
       "    .dataframe tbody tr th {\n",
       "        vertical-align: top;\n",
       "    }\n",
       "\n",
       "    .dataframe thead th {\n",
       "        text-align: right;\n",
       "    }\n",
       "</style>\n",
       "<table border=\"1\" class=\"dataframe\">\n",
       "  <thead>\n",
       "    <tr style=\"text-align: right;\">\n",
       "      <th></th>\n",
       "      <th>Correct</th>\n",
       "    </tr>\n",
       "    <tr>\n",
       "      <th>flankers</th>\n",
       "      <th></th>\n",
       "    </tr>\n",
       "  </thead>\n",
       "  <tbody>\n",
       "    <tr>\n",
       "      <th>congruent</th>\n",
       "      <td>40</td>\n",
       "    </tr>\n",
       "    <tr>\n",
       "      <th>incongruent</th>\n",
       "      <td>34</td>\n",
       "    </tr>\n",
       "  </tbody>\n",
       "</table>\n",
       "</div>"
      ],
      "text/plain": [
       "             Correct\n",
       "flankers            \n",
       "congruent         40\n",
       "incongruent       34"
      ]
     },
     "execution_count": 18,
     "metadata": {
     },
     "output_type": "execute_result"
    }
   ],
   "source": [
    "correct = df.groupby(by = 'flankers')[['error']].agg('sum')\n",
    "correct.columns = ['Correct']\n",
    "correct = correct.drop('neutral')\n",
    "correct"
   ]
  },
  {
   "cell_type": "markdown",
   "metadata": {
    "collapsed": false
   },
   "source": [
    " showing the accuracy rate"
   ]
  },
  {
   "cell_type": "code",
   "execution_count": 19,
   "metadata": {
    "collapsed": false
   },
   "outputs": [
    {
     "data": {
      "text/html": [
       "<div>\n",
       "<style scoped>\n",
       "    .dataframe tbody tr th:only-of-type {\n",
       "        vertical-align: middle;\n",
       "    }\n",
       "\n",
       "    .dataframe tbody tr th {\n",
       "        vertical-align: top;\n",
       "    }\n",
       "\n",
       "    .dataframe thead th {\n",
       "        text-align: right;\n",
       "    }\n",
       "</style>\n",
       "<table border=\"1\" class=\"dataframe\">\n",
       "  <thead>\n",
       "    <tr style=\"text-align: right;\">\n",
       "      <th></th>\n",
       "      <th>Accuracy</th>\n",
       "    </tr>\n",
       "    <tr>\n",
       "      <th>flankers</th>\n",
       "      <th></th>\n",
       "    </tr>\n",
       "  </thead>\n",
       "  <tbody>\n",
       "    <tr>\n",
       "      <th>congruent</th>\n",
       "      <td>1.00</td>\n",
       "    </tr>\n",
       "    <tr>\n",
       "      <th>incongruent</th>\n",
       "      <td>0.85</td>\n",
       "    </tr>\n",
       "  </tbody>\n",
       "</table>\n",
       "</div>"
      ],
      "text/plain": [
       "             Accuracy\n",
       "flankers             \n",
       "congruent        1.00\n",
       "incongruent      0.85"
      ]
     },
     "execution_count": 19,
     "metadata": {
     },
     "output_type": "execute_result"
    }
   ],
   "source": [
    "total= df.groupby(by = 'flankers')[['error']].agg('count')\n",
    "correct = df.groupby(by = 'flankers')[['error']].agg('sum')\n",
    "number = correct[:2]/total[:2]\n",
    "number.columns = ['Accuracy']\n",
    "number"
   ]
  },
  {
   "cell_type": "markdown",
   "metadata": {
    "collapsed": false
   },
   "source": [
    "## Visualization"
   ]
  },
  {
   "cell_type": "markdown",
   "metadata": {
    "collapsed": false
   },
   "source": [
    "Plot box plots of the log-transformed RT data (logrt) for each flanker conditio"
   ]
  },
  {
   "cell_type": "code",
   "execution_count": 20,
   "metadata": {
    "collapsed": false
   },
   "outputs": [
    {
     "data": {
      "image/png": "[encoded data removed]",
      "text/plain": [
       "<Figure size 864x504 with 1 Axes>"
      ]
     },
     "execution_count": 20,
     "metadata": {
      "image/png": {
       "height": 426,
       "width": 706
      },
      "needs_background": "light"
     },
     "output_type": "execute_result"
    },
    {
     "data": {
      "image/png": "[encoded data removed]",
      "text/plain": [
       "<Figure size 864x504 with 1 Axes>"
      ]
     },
     "execution_count": 20,
     "metadata": {
      "image/png": {
       "height": 426,
       "width": 706
      },
      "needs_background": "light"
     },
     "output_type": "execute_result"
    }
   ],
   "source": [
    "boxplot1 = df.loc[df['flankers']=='congruent','logrt'].plot(kind = 'box',title = 'Congruent')\n",
    "plt.show()\n",
    "boxplot2 = df.loc[df['flankers']=='incongruent','logrt'].plot(kind = 'box',title = 'Incongruent')\n",
    "plt.show()"
   ]
  },
  {
   "cell_type": "markdown",
   "metadata": {
    "collapsed": false
   },
   "source": [
    "## Interpretation"
   ]
  },
  {
   "cell_type": "markdown",
   "metadata": {
    "collapsed": false
   },
   "source": [
    " Basis of EDA, I can say incongruent flankers would lead to slower and less accurate responses. according to the participant results, the congruent condition has 100% accuracy and 452.60 (mean) response time. Incongruent condition has 85% accuracy and 466.05 (mean) response time."
   ]
  },
  {
   "cell_type": "markdown",
   "metadata": {
    "collapsed": false
   },
   "source": [
    "So far, we end EDA methods (basic). \n",
    "<br>\n",
    "<br>\n",
    "Through this assignment, I learned the basic steps of data analysis. Especially,EDA methods:\n",
    "<br> Read files\n",
    "<br> Data cleaning\n",
    "<br> Analyzing relationships between variables\n",
    "<br> Visualization\n",
    "<br> Interpretation"
   ]
  },
  {
   "cell_type": "markdown",
   "metadata": {
    "collapsed": false
   },
   "source": [
    "## References\n",
    "\n",
    "[1] [NESC 3505 Neural Data Science, at Dalhousie University. Textbook](https://dalpsychneuro.github.io/NESC_3505_textbook/intro.html)\n",
    "<br>\n",
    "[2] NESC 3505 Neural Data Science, at Dalhousie University. Assignment 3\n",
    "<br>\n",
    "[3] [An Extensive Step by Step Guide to Exploratory Data Analysis](https://towardsdatascience.com/an-extensive-guide-to-exploratory-data-analysis-ddd99a03199e)"
   ]
  },
  {
   "cell_type": "markdown",
   "metadata": {
    "collapsed": false
   },
   "source": [
    "\n",
    "<font color = red >This Demo and the attached files from course PSYO/NESC 3505 Neural Data Science, at Dalhousie University. You should not disseminate, distribute or copy. </font>\n",
    "<br><font color = red >I am NOT post inappropriate or copyrighted content, advertise or promote outside products or organizations </font>\n",
    "<br>© Copyright 2020.PSYO/NESC 3505 FAll 2020 https://dalpsychneuro.github.io/NESC_3505_textbook/intro.html\n",
    "<br>**For demonstration purposes only**"
   ]
  },
  {
   "cell_type": "code",
   "execution_count": 0,
   "metadata": {
    "collapsed": false
   },
   "outputs": [
   ],
   "source": [
   ]
  }
 ],
 "metadata": {
  "kernelspec": {
   "display_name": "Python 3 (system-wide)",
   "language": "python",
   "metadata": {
    "cocalc": {
     "description": "Python 3 programming language",
     "priority": 100,
     "url": "https://www.python.org/"
    }
   },
   "name": "python3",
   "resource_dir": "/ext/jupyter/kernels/python3"
  },
  "language_info": {
   "codemirror_mode": {
    "name": "ipython",
    "version": 3
   },
   "file_extension": ".py",
   "mimetype": "text/x-python",
   "name": "python",
   "nbconvert_exporter": "python",
   "pygments_lexer": "ipython3",
   "version": "3.8.5"
  }
 },
 "nbformat": 4,
 "nbformat_minor": 4
}